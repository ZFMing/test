{
 "cells": [
  {
   "cell_type": "markdown",
   "metadata": {},
   "source": [
    "随机生成数据"
   ]
  },
  {
   "cell_type": "code",
   "execution_count": 1,
   "metadata": {},
   "outputs": [],
   "source": [
    "x <- runif(10,min = 0,max = 100)"
   ]
  },
  {
   "cell_type": "code",
   "execution_count": 2,
   "metadata": {},
   "outputs": [],
   "source": [
    "nx <- length(x) # 长度\n",
    "y <- c(x[1]) # 初始化\n",
    "for(i in 2:nx){\n",
    "  ny <- length(y)\n",
    "  if(x[i] <= y[1]) y <- c(x[i],y)\n",
    "  else if(x[i] >= y[ny]) y <- c(y,x[i])\n",
    "  else{\n",
    "    for(j in 1:(ny-1)){\n",
    "      if(x[i] > y[j] && x[i] < y[j+1]){\n",
    "        y <- c(y[1:j],x[i],y[(j+1):ny])\n",
    "        break\n",
    "      }\n",
    "    }\n",
    "  }\n",
    "}"
   ]
  },
  {
   "cell_type": "markdown",
   "metadata": {},
   "source": [
    "排序结果"
   ]
  },
  {
   "cell_type": "code",
   "execution_count": 3,
   "metadata": {},
   "outputs": [
    {
     "data": {
      "text/html": [
       "<ol class=list-inline>\n",
       "\t<li>7.66771002672613</li>\n",
       "\t<li>12.2785760555416</li>\n",
       "\t<li>20.5722912214696</li>\n",
       "\t<li>21.5839420445263</li>\n",
       "\t<li>33.1769763259217</li>\n",
       "\t<li>35.0714319385588</li>\n",
       "\t<li>37.4436133541167</li>\n",
       "\t<li>49.5446256361902</li>\n",
       "\t<li>50.5215714219958</li>\n",
       "\t<li>89.6859703818336</li>\n",
       "</ol>\n"
      ],
      "text/latex": [
       "\\begin{enumerate*}\n",
       "\\item 7.66771002672613\n",
       "\\item 12.2785760555416\n",
       "\\item 20.5722912214696\n",
       "\\item 21.5839420445263\n",
       "\\item 33.1769763259217\n",
       "\\item 35.0714319385588\n",
       "\\item 37.4436133541167\n",
       "\\item 49.5446256361902\n",
       "\\item 50.5215714219958\n",
       "\\item 89.6859703818336\n",
       "\\end{enumerate*}\n"
      ],
      "text/markdown": [
       "1. 7.66771002672613\n",
       "2. 12.2785760555416\n",
       "3. 20.5722912214696\n",
       "4. 21.5839420445263\n",
       "5. 33.1769763259217\n",
       "6. 35.0714319385588\n",
       "7. 37.4436133541167\n",
       "8. 49.5446256361902\n",
       "9. 50.5215714219958\n",
       "10. 89.6859703818336\n",
       "\n",
       "\n"
      ],
      "text/plain": [
       " [1]  7.66771 12.27858 20.57229 21.58394 33.17698 35.07143 37.44361 49.54463\n",
       " [9] 50.52157 89.68597"
      ]
     },
     "metadata": {},
     "output_type": "display_data"
    }
   ],
   "source": [
    "y"
   ]
  }
 ],
 "metadata": {
  "kernelspec": {
   "display_name": "R",
   "language": "R",
   "name": "ir"
  },
  "language_info": {
   "codemirror_mode": "r",
   "file_extension": ".r",
   "mimetype": "text/x-r-source",
   "name": "R",
   "pygments_lexer": "r",
   "version": "3.5.1"
  },
  "toc": {
   "base_numbering": 1,
   "nav_menu": {},
   "number_sections": true,
   "sideBar": true,
   "skip_h1_title": false,
   "title_cell": "Table of Contents",
   "title_sidebar": "Contents",
   "toc_cell": false,
   "toc_position": {},
   "toc_section_display": true,
   "toc_window_display": false
  }
 },
 "nbformat": 4,
 "nbformat_minor": 2
}
